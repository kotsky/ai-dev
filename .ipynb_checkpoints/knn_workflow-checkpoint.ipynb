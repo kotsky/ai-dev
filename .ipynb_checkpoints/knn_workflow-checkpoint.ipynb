{
 "cells": [
  {
   "cell_type": "markdown",
   "id": "worst-russell",
   "metadata": {},
   "source": [
    "KNN algo"
   ]
  },
  {
   "cell_type": "markdown",
   "id": "included-driving",
   "metadata": {},
   "source": [
    "# AI: K-Nearest \n",
    "\n",
    "## Classification problem with LR: should we give a loan or no?\n",
    "\n",
    "In this project I use my own designed Logistic Regression and DataTable packages to predict if a person with respective attributes will pay loan back.\n",
    "\n",
    "I'll walk you through this process of model definition, fine-tuning and evaluation. You might want to jump to the interesting section immediately.\n",
    "\n",
    "Before exploring Logistic Regression, I would recommend to start with Regression at first here: https://github.com/kotsky/ai-dev/blob/main/regression_workflow.ipynb, because this work is Regression extension and was done in short.\n",
    "\n",
    "\n",
    "1. [Section 1](#id_1)- preparation\n",
    "2. [Section 2](#id_2)- model building\n",
    "3. [Section 3](#id_3)- training\n",
    "4. [Section 4](#id_4)- evaluation\n",
    "5. [Section 5](#id_5)- results\n",
    "\n",
    "\n",
    "# Introduction\n",
    "I had developed my own Pandas-like simplified package data_reader.py to fetch different kind of data faster than Pandas can do and contains main features for Logistic Regression AI like data preparation for training/testing, split data, adding new features, creating combined one, ploting and many others. \n",
    "\n",
    "In addition, to enhance my AI regression model's knowledge, I designed a logistic_regression.py package based on sigmoid activator, gradient descent technique to traing a (linear, non-linear, multi-variable) regression model with a various model parameters like number of iterations (epoch), learning rate (alpha) and regularization coefficient (regul). Moreover there is logs feature to monitor regression model learning and evaluation of its performance. \n",
    "\n",
    "All these features and techniques I would like to show in this notebook.\n",
    "\n",
    "For additional package usage, refer to doxy in its src code.\n",
    "\n",
    "For that session, I'm going to use a /data/loan_train.csv file, which contains table-like structure data of various cases when a person returns/not returns his loan back. It might be interesting to try to predict if the given person can get loan."
   ]
  },
  {
   "cell_type": "code",
   "execution_count": null,
   "id": "solved-pitch",
   "metadata": {},
   "outputs": [],
   "source": []
  }
 ],
 "metadata": {
  "kernelspec": {
   "display_name": "Python 3",
   "language": "python",
   "name": "python3"
  },
  "language_info": {
   "codemirror_mode": {
    "name": "ipython",
    "version": 3
   },
   "file_extension": ".py",
   "mimetype": "text/x-python",
   "name": "python",
   "nbconvert_exporter": "python",
   "pygments_lexer": "ipython3",
   "version": "3.8.6"
  }
 },
 "nbformat": 4,
 "nbformat_minor": 5
}
