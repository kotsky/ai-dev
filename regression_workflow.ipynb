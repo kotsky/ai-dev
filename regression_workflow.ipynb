{
 "cells": [
  {
   "cell_type": "markdown",
   "id": "rotary-female",
   "metadata": {},
   "source": [
    "<h1 align=\"center\"><font size=\"5\">AI: Regression</font></h1>\n",
    "\n",
    "<h1 align=\"center\"><font size=\"5\">Regression usage on Fuel Consumption vs CO2 Emission data</font></h1>\n",
    "\n",
    "<h1 align=\"center\"><font size=\"2\">In this project I use my own designed Regression and DataTable packages to predict a CO2 Emission based on car characteristics.</font></h1>\n"
   ]
  },
  {
   "cell_type": "markdown",
   "id": "assisted-gregory",
   "metadata": {},
   "source": [
    "I'll walk you through this process of model definition, fine-tuning and evaluation. You might want to jump to the interesting section immediately."
   ]
  },
  {
   "cell_type": "markdown",
   "id": "executive-pixel",
   "metadata": {},
   "source": [
    "1. [Section 1](#id_1)- preparation\n",
    "2. [Section 2](#id_2)- model config\n",
    "3. [Section 3](#id_3)- first try\n",
    "4. [Section 4](#id_4)- real game\n",
    "5. [Section 5]()"
   ]
  },
  {
   "cell_type": "markdown",
   "id": "empty-distributor",
   "metadata": {},
   "source": [
    "# Introduction"
   ]
  },
  {
   "cell_type": "markdown",
   "id": "improving-traffic",
   "metadata": {},
   "source": [
    "I had developed my own Pandas-like simplified package data_reader.py to fetch different kind of data faster that Pandas can do and contains main features for Regression AI like data preparation for training/testing, split data, adding new features, creating combined one, ploting and many others. \n",
    "\n",
    "In addition, to enhance my AI regression model's knowledge, I designed a regression.py package based on gradient descent technique to traing a (linear, non-linear, multi-variable) regression model with a various model parameters like number of iterations (epoch), learning rate (alpha) and regularization coefficient (regul). Moreover there is logs feature to monitor regression model learning and evaluation of its performance. \n",
    "\n",
    "All these features and techniques I would like to show in this notebook.\n",
    "\n",
    "For additional package usage, refer to doxy in its src code.\n",
    "\n",
    "For that session, I'm going to use a FuelConsumtion.csv file, which contains table-like structure of data of how different parameters of the car impact on CO2 Emission. It might be interesting to try to predict how much particular car model will produce CO2."
   ]
  },
  {
   "cell_type": "markdown",
   "id": "agricultural-humidity",
   "metadata": {},
   "source": [
    "\n"
   ]
  },
  {
   "cell_type": "markdown",
   "id": "hawaiian-framing",
   "metadata": {},
   "source": [
    "# Section 1<a id='id_1'></a> - preparation"
   ]
  },
  {
   "cell_type": "markdown",
   "id": "prime-sydney",
   "metadata": {},
   "source": [
    "Import all necessary libs (yeah, matplotlib will be used just to make a nice visualization. And random lib as well)."
   ]
  },
  {
   "cell_type": "code",
   "execution_count": 42,
   "id": "copyrighted-terrorism",
   "metadata": {},
   "outputs": [],
   "source": [
    "import data_reader as dr\n",
    "import regression\n",
    "import matplotlib.pyplot as plt\n",
    "from mpl_toolkits.mplot3d import Axes3D"
   ]
  },
  {
   "cell_type": "markdown",
   "id": "modified-mexico",
   "metadata": {},
   "source": [
    "I had collected helper functions/stripts in helper_methods.py"
   ]
  },
  {
   "cell_type": "code",
   "execution_count": 2,
   "id": "absolute-phase",
   "metadata": {},
   "outputs": [],
   "source": [
    "from helper_methods import *"
   ]
  },
  {
   "cell_type": "markdown",
   "id": "enabling-afternoon",
   "metadata": {},
   "source": [
    "To upload data, let's use DataTable (like dataFrame from Pandas) from data_reader.py."
   ]
  },
  {
   "cell_type": "code",
   "execution_count": 3,
   "id": "polar-booking",
   "metadata": {},
   "outputs": [],
   "source": [
    "main_data_table = dr.DataTable(\"data/FuelConsumption.csv\")"
   ]
  },
  {
   "attachments": {
    "image.png": {
     "image/png": "[encoded data removed]"
    }
   },
   "cell_type": "markdown",
   "id": "infrared-suite",
   "metadata": {},
   "source": [
    "![image.png](attachment:image.png)"
   ]
  },
  {
   "cell_type": "markdown",
   "id": "ruled-netherlands",
   "metadata": {},
   "source": [
    "This DataTable is very suitable for a small-middle range data size, because with current implementation it stores all data into a main memory."
   ]
  },
  {
   "cell_type": "code",
   "execution_count": 4,
   "id": "wired-therapist",
   "metadata": {},
   "outputs": [
    {
     "data": {
      "text/plain": [
       "['MODELYEAR',\n",
       " 'MAKE',\n",
       " 'MODEL',\n",
       " 'VEHICLECLASS',\n",
       " 'ENGINESIZE',\n",
       " 'CYLINDERS',\n",
       " 'TRANSMISSION',\n",
       " 'FUELTYPE',\n",
       " 'FUELCONSUMPTION_CITY',\n",
       " 'FUELCONSUMPTION_HWY',\n",
       " 'FUELCONSUMPTION_COMB',\n",
       " 'FUELCONSUMPTION_COMB_MPG',\n",
       " 'CO2EMISSIONS']"
      ]
     },
     "execution_count": 4,
     "metadata": {},
     "output_type": "execute_result"
    }
   ],
   "source": [
    "main_data_table.head  # returns labels of each column"
   ]
  },
  {
   "cell_type": "code",
   "execution_count": 5,
   "id": "modern-domain",
   "metadata": {},
   "outputs": [
    {
     "data": {
      "text/plain": [
       "1067"
      ]
     },
     "execution_count": 5,
     "metadata": {},
     "output_type": "execute_result"
    }
   ],
   "source": [
    "len(main_data_table)  # shows how many rows of data we have"
   ]
  },
  {
   "cell_type": "markdown",
   "id": "neural-forum",
   "metadata": {},
   "source": [
    "## Features and target selection"
   ]
  },
  {
   "cell_type": "markdown",
   "id": "cleared-desert",
   "metadata": {},
   "source": [
    "By default, there are no features and target pre-defined. Features - set of parameters we are going to use for our model to train it; target - set of outcome we desire to have from our trained model.\n",
    "\n",
    "For the first time, I'm interested how engine size and fuel consumtion impact on CO2 emission. \n",
    "\n",
    "For that, I select following features:"
   ]
  },
  {
   "cell_type": "code",
   "execution_count": 6,
   "id": "removable-spoke",
   "metadata": {},
   "outputs": [
    {
     "name": "stdout",
     "output_type": "stream",
     "text": [
      "Feature FUELCONSUMPTION_COMB_MPG was added\n",
      "Feature ENGINESIZE was added\n",
      "Target CO2EMISSIONS was added\n"
     ]
    }
   ],
   "source": [
    "# To define feature/s and target:\n",
    "main_data_table.activate_features([\"FUELCONSUMPTION_COMB_MPG\", \"ENGINESIZE\"])\n",
    "main_data_table.select_target(\"CO2EMISSIONS\")"
   ]
  },
  {
   "cell_type": "markdown",
   "id": "frank-philadelphia",
   "metadata": {},
   "source": [
    "Let's draw it."
   ]
  },
  {
   "cell_type": "code",
   "execution_count": 7,
   "id": "micro-basket",
   "metadata": {},
   "outputs": [
    {
     "data": {
      "image/png": "[encoded data removed]",
      "text/plain": [
       "<Figure size 432x288 with 1 Axes>"
      ]
     },
     "metadata": {
      "needs_background": "light"
     },
     "output_type": "display_data"
    },
    {
     "data": {
      "image/png": "[encoded data removed]",
      "text/plain": [
       "<Figure size 432x288 with 1 Axes>"
      ]
     },
     "metadata": {
      "needs_background": "light"
     },
     "output_type": "display_data"
    }
   ],
   "source": [
    "main_data_table.plot(features2target=True)"
   ]
  },
  {
   "cell_type": "markdown",
   "id": "threaded-allah",
   "metadata": {},
   "source": [
    "Our features are defined like"
   ]
  },
  {
   "cell_type": "code",
   "execution_count": 8,
   "id": "wired-practitioner",
   "metadata": {},
   "outputs": [
    {
     "data": {
      "text/plain": [
       "{'FUELCONSUMPTION_COMB_MPG': <data_reader.DataTable._DataColumn at 0x17e7b496780>,\n",
       " 'ENGINESIZE': <data_reader.DataTable._DataColumn at 0x17e7b4965f8>}"
      ]
     },
     "execution_count": 8,
     "metadata": {},
     "output_type": "execute_result"
    }
   ],
   "source": [
    "main_data_table.features"
   ]
  },
  {
   "cell_type": "markdown",
   "id": "failing-mentor",
   "metadata": {},
   "source": [
    "We can see that engine size can be filled with a straight line, what we cannot say about fuel consumption parameter.\n",
    "To showcase capabilities of my packages, I would like to select a parabolic curved feature.\n",
    "\n",
    "Let's delete engine size feature from our training data set."
   ]
  },
  {
   "cell_type": "code",
   "execution_count": 9,
   "id": "czech-affect",
   "metadata": {},
   "outputs": [
    {
     "name": "stdout",
     "output_type": "stream",
     "text": [
      "Feature ENGINESIZE was disabled from the training set\n"
     ]
    }
   ],
   "source": [
    "main_data_table.deactivate_feature(\"ENGINESIZE\")"
   ]
  },
  {
   "cell_type": "code",
   "execution_count": 10,
   "id": "optional-denver",
   "metadata": {},
   "outputs": [
    {
     "data": {
      "text/plain": [
       "{'FUELCONSUMPTION_COMB_MPG': <data_reader.DataTable._DataColumn at 0x17e7b496780>}"
      ]
     },
     "execution_count": 10,
     "metadata": {},
     "output_type": "execute_result"
    }
   ],
   "source": [
    "main_data_table.features"
   ]
  },
  {
   "cell_type": "markdown",
   "id": "suspended-stranger",
   "metadata": {},
   "source": [
    "## Training/CV/Testing data sets"
   ]
  },
  {
   "cell_type": "markdown",
   "id": "satellite-juice",
   "metadata": {},
   "source": [
    "DataTable supports data split onto training, cross-validation (direct model testing and selecting the best one) and testing data (for final model testing)."
   ]
  },
  {
   "cell_type": "code",
   "execution_count": 11,
   "id": "thrown-connection",
   "metadata": {},
   "outputs": [
    {
     "name": "stdout",
     "output_type": "stream",
     "text": [
      "Shuffle was done\n",
      "Data was split as follows: 0.6 training set, 0.2 cross-validation set and 0.2 test set\n"
     ]
    }
   ],
   "source": [
    "main_data_table.split_data(0.6, 0.2, shuffle=True)"
   ]
  },
  {
   "cell_type": "code",
   "execution_count": 12,
   "id": "micro-improvement",
   "metadata": {},
   "outputs": [],
   "source": [
    "# to fetch brand new data for AI purpose\n",
    "training_data = main_data_table.get_training_data()  # returns (features data, target data)\n",
    "cv_data = main_data_table.get_cv_data()\n",
    "testing_data = main_data_table.get_testing_data()"
   ]
  },
  {
   "cell_type": "code",
   "execution_count": 13,
   "id": "interesting-product",
   "metadata": {},
   "outputs": [
    {
     "data": {
      "text/plain": [
       "[[17.0], [21.0], [18.0], [29.0], [27.0]]"
      ]
     },
     "execution_count": 13,
     "metadata": {},
     "output_type": "execute_result"
    }
   ],
   "source": [
    "training_data[0][0:5] # feature data"
   ]
  },
  {
   "cell_type": "code",
   "execution_count": 14,
   "id": "injured-index",
   "metadata": {},
   "outputs": [
    {
     "data": {
      "text/plain": [
       "[373.0, 306.0, 359.0, 225.0, 239.0]"
      ]
     },
     "execution_count": 14,
     "metadata": {},
     "output_type": "execute_result"
    }
   ],
   "source": [
    "training_data[1][0:5] # target data"
   ]
  },
  {
   "cell_type": "code",
   "execution_count": 15,
   "id": "proud-distribution",
   "metadata": {},
   "outputs": [],
   "source": [
    "data_labels = main_data_table.get_labels()  # to get labels of training/cv/testing data arrays"
   ]
  },
  {
   "cell_type": "code",
   "execution_count": 16,
   "id": "organic-resort",
   "metadata": {},
   "outputs": [
    {
     "data": {
      "text/plain": [
       "(['FUELCONSUMPTION_COMB_MPG'], 'CO2EMISSIONS')"
      ]
     },
     "execution_count": 16,
     "metadata": {},
     "output_type": "execute_result"
    }
   ],
   "source": [
    "data_labels"
   ]
  },
  {
   "cell_type": "markdown",
   "id": "sought-asthma",
   "metadata": {},
   "source": [
    "Now data is prepared for first AI trials with 1 feature and 1 target."
   ]
  },
  {
   "cell_type": "markdown",
   "id": "functional-fishing",
   "metadata": {},
   "source": [
    "# Section 2<a id='id_2'></a> - model config"
   ]
  },
  {
   "cell_type": "code",
   "execution_count": 17,
   "id": "faced-companion",
   "metadata": {},
   "outputs": [
    {
     "data": {
      "text/plain": [
       "True"
      ]
     },
     "execution_count": 17,
     "metadata": {},
     "output_type": "execute_result"
    }
   ],
   "source": [
    "regression_model = regression.Regression()  # create model as an entity\n",
    "regression_model.set_labels(data_labels)  # set labels of our data into the model\n",
    "regression_model.set_training_data(training_data[0], training_data[1])  # and point this model to our data\n",
    "regression_model.set_testing_data(cv_data[0], cv_data[1])  # "
   ]
  },
  {
   "cell_type": "code",
   "execution_count": 18,
   "id": "whole-horizon",
   "metadata": {},
   "outputs": [
    {
     "data": {
      "text/plain": [
       "<regression.Regression at 0x17e7b5ef6a0>"
      ]
     },
     "execution_count": 18,
     "metadata": {},
     "output_type": "execute_result"
    }
   ],
   "source": [
    "regression_model"
   ]
  },
  {
   "cell_type": "markdown",
   "id": "acknowledged-saskatchewan",
   "metadata": {},
   "source": [
    "# Section 3<a id='id_3'></a> - first try"
   ]
  },
  {
   "cell_type": "markdown",
   "id": "hydraulic-peace",
   "metadata": {},
   "source": [
    "In this section I'm going to play a little bit with my model and data we have. Let's set the following parameters:"
   ]
  },
  {
   "cell_type": "code",
   "execution_count": 19,
   "id": "focused-following",
   "metadata": {},
   "outputs": [],
   "source": [
    "regression_model.ROUND_AFTER_COMA = 4  # simplify computation by rounding all results to 4 digits after coma"
   ]
  },
  {
   "cell_type": "code",
   "execution_count": 20,
   "id": "humanitarian-wagon",
   "metadata": {},
   "outputs": [],
   "source": [
    "# do first weight coefficients' initialization in range -10...10\n",
    "regression_model.RANDOM_WEIGHT_INITIALIZATION = 10\n",
    "\n",
    "# number of iteration 100\n",
    "regression_model.epoch = 100\n",
    "\n",
    "# learning rate 0.5\n",
    "regression_model.alpha = 0.5\n",
    "\n",
    "# regularization coefficient is 0\n",
    "regression_model.regularization = 0"
   ]
  },
  {
   "cell_type": "markdown",
   "id": "infinite-heater",
   "metadata": {},
   "source": [
    "Now, we can fit our model with defined training data."
   ]
  },
  {
   "cell_type": "code",
   "execution_count": 21,
   "id": "sustained-mercury",
   "metadata": {},
   "outputs": [
    {
     "name": "stdout",
     "output_type": "stream",
     "text": [
      "Initiated coefficients are [7, -2]\n",
      "Iteration 26 done\n",
      "Iteration 51 done\n",
      "Iteration 76 done\n",
      "Training is completed with 100 iterations\n"
     ]
    }
   ],
   "source": [
    "coeffs = regression_model.fit()  # provide model training using defined training data set"
   ]
  },
  {
   "cell_type": "code",
   "execution_count": 22,
   "id": "massive-cassette",
   "metadata": {},
   "outputs": [
    {
     "data": {
      "text/plain": [
       "[-1.1518086641218647e+256, -3.2484541461213456e+257]"
      ]
     },
     "execution_count": 22,
     "metadata": {},
     "output_type": "execute_result"
    }
   ],
   "source": [
    "coeffs  # model's trained coefficients"
   ]
  },
  {
   "cell_type": "code",
   "execution_count": 24,
   "id": "assumed-westminster",
   "metadata": {},
   "outputs": [
    {
     "data": {
      "image/png": "[encoded data removed]",
      "text/plain": [
       "<Figure size 432x288 with 1 Axes>"
      ]
     },
     "metadata": {
      "needs_background": "light"
     },
     "output_type": "display_data"
    }
   ],
   "source": [
    "cv_features, cv_target = cv_data\n",
    "training_features, training_target = training_data\n",
    "plot2d_target2predict(regression_model, cv_features, cv_target,\n",
    "                      feature_name=\"FUELCONSUMPTION_COMB_MPG\", \n",
    "                      target_name=\"CO2EMISSIONS\",\n",
    "                      feature_idx = 0, loc_place=\"upper left\")"
   ]
  },
  {
   "cell_type": "markdown",
   "id": "informal-portugal",
   "metadata": {},
   "source": [
    "Wow, it seems like we overshooted our global (and local as well) minimum of our model function and it has been decreasing so rapidly. Let's reduce learning coefficient significantly."
   ]
  },
  {
   "cell_type": "code",
   "execution_count": 26,
   "id": "least-person",
   "metadata": {},
   "outputs": [],
   "source": [
    "regression_model.alpha = 0.01"
   ]
  },
  {
   "cell_type": "code",
   "execution_count": 27,
   "id": "unlike-wrestling",
   "metadata": {},
   "outputs": [
    {
     "name": "stdout",
     "output_type": "stream",
     "text": [
      "Initiated coefficients are [1, 3]\n",
      "Iteration 26 done\n",
      "Iteration 51 done\n",
      "Iteration 76 done\n",
      "Training is completed with 100 iterations\n"
     ]
    }
   ],
   "source": [
    "coeffs = regression_model.fit()"
   ]
  },
  {
   "cell_type": "code",
   "execution_count": 28,
   "id": "worst-potential",
   "metadata": {},
   "outputs": [
    {
     "data": {
      "text/plain": [
       "[-4.735256743462196e+79, -1.3354878184543107e+81]"
      ]
     },
     "execution_count": 28,
     "metadata": {},
     "output_type": "execute_result"
    }
   ],
   "source": [
    "coeffs"
   ]
  },
  {
   "cell_type": "markdown",
   "id": "fewer-specification",
   "metadata": {},
   "source": [
    "Better, we just reduced coefficients from e+256 to e+79. Still, bad :D\n",
    "\n",
    "Do we need reduce alpha even more? Let's introduce some regularization as well."
   ]
  },
  {
   "cell_type": "code",
   "execution_count": 29,
   "id": "conservative-child",
   "metadata": {},
   "outputs": [],
   "source": [
    "regression_model.alpha = 0.001\n",
    "regression_model.regularization = 0.2"
   ]
  },
  {
   "cell_type": "code",
   "execution_count": 30,
   "id": "neutral-repeat",
   "metadata": {},
   "outputs": [
    {
     "name": "stdout",
     "output_type": "stream",
     "text": [
      "Initiated coefficients are [5, 5]\n",
      "Iteration 26 done\n",
      "Iteration 51 done\n",
      "Iteration 76 done\n",
      "Training is completed with 100 iterations\n"
     ]
    },
    {
     "data": {
      "text/plain": [
       "[8.5417, 8.2881]"
      ]
     },
     "execution_count": 30,
     "metadata": {},
     "output_type": "execute_result"
    }
   ],
   "source": [
    "coeffs = regression_model.fit()\n",
    "coeffs"
   ]
  },
  {
   "cell_type": "markdown",
   "id": "timely-former",
   "metadata": {},
   "source": [
    "Looks much better. Let's try these coefficients."
   ]
  },
  {
   "cell_type": "code",
   "execution_count": 32,
   "id": "institutional-proportion",
   "metadata": {},
   "outputs": [
    {
     "data": {
      "image/png": "[encoded data removed]",
      "text/plain": [
       "<Figure size 432x288 with 1 Axes>"
      ]
     },
     "metadata": {
      "needs_background": "light"
     },
     "output_type": "display_data"
    }
   ],
   "source": [
    "plot2d_target2predict(regression_model, cv_features, cv_target,\n",
    "                      feature_name=\"FUELCONSUMPTION_COMB_MPG\", \n",
    "                      target_name=\"CO2EMISSIONS\",\n",
    "                      feature_idx = 0, loc_place=\"upper right\")"
   ]
  },
  {
   "cell_type": "markdown",
   "id": "hearing-delicious",
   "metadata": {},
   "source": [
    "That seems like we didn't fit the model. Increase epoch and alpha? "
   ]
  },
  {
   "cell_type": "code",
   "execution_count": 51,
   "id": "cross-heading",
   "metadata": {},
   "outputs": [],
   "source": [
    "regression_model.alpha = 0.002\n",
    "regression_model.epoch = 500"
   ]
  },
  {
   "cell_type": "code",
   "execution_count": 52,
   "id": "short-calgary",
   "metadata": {},
   "outputs": [
    {
     "name": "stdout",
     "output_type": "stream",
     "text": [
      "Initiated coefficients are [5, -9]\n",
      "Iteration 126 done\n",
      "Iteration 251 done\n",
      "Iteration 376 done\n",
      "Training is completed with 500 iterations\n"
     ]
    },
    {
     "data": {
      "text/plain": [
       "[38.6522, 7.2205]"
      ]
     },
     "execution_count": 52,
     "metadata": {},
     "output_type": "execute_result"
    }
   ],
   "source": [
    "coeffs = regression_model.fit()\n",
    "coeffs"
   ]
  },
  {
   "cell_type": "markdown",
   "id": "demanding-birthday",
   "metadata": {},
   "source": [
    "Still no. How about to initialize first coefficients in range -1...1?"
   ]
  },
  {
   "cell_type": "code",
   "execution_count": 46,
   "id": "immediate-forth",
   "metadata": {},
   "outputs": [
    {
     "data": {
      "text/plain": [
       "[-0.9, -0.3]"
      ]
     },
     "execution_count": 46,
     "metadata": {},
     "output_type": "execute_result"
    }
   ],
   "source": [
    "regression_model.create_coefficients_array(True)  "
   ]
  },
  {
   "cell_type": "code",
   "execution_count": 48,
   "id": "atmospheric-fabric",
   "metadata": {},
   "outputs": [
    {
     "ename": "AttributeError",
     "evalue": "'Regression' object has no attribute '__temporary_coefficients'",
     "output_type": "error",
     "traceback": [
      "\u001b[1;31m---------------------------------------------------------------------------\u001b[0m",
      "\u001b[1;31mAttributeError\u001b[0m                            Traceback (most recent call last)",
      "\u001b[1;32m<ipython-input-48-3f67961678ca>\u001b[0m in \u001b[0;36m<module>\u001b[1;34m\u001b[0m\n\u001b[0;32m      3\u001b[0m \u001b[1;33m\u001b[0m\u001b[0m\n\u001b[0;32m      4\u001b[0m \u001b[0mcoefficients_optimization\u001b[0m \u001b[1;33m=\u001b[0m \u001b[0mregression_model\u001b[0m\u001b[1;33m.\u001b[0m\u001b[0mgradient_descent\u001b[0m\u001b[1;33m\u001b[0m\u001b[1;33m\u001b[0m\u001b[0m\n\u001b[1;32m----> 5\u001b[1;33m \u001b[1;32mif\u001b[0m \u001b[0mlen\u001b[0m\u001b[1;33m(\u001b[0m\u001b[0mregression_model\u001b[0m\u001b[1;33m.\u001b[0m\u001b[0m__temporary_coefficients\u001b[0m\u001b[1;33m)\u001b[0m \u001b[1;33m!=\u001b[0m \u001b[0mlen\u001b[0m\u001b[1;33m(\u001b[0m\u001b[0mregression_model\u001b[0m\u001b[1;33m.\u001b[0m\u001b[0mcoefficients\u001b[0m\u001b[1;33m)\u001b[0m\u001b[1;33m:\u001b[0m\u001b[1;33m\u001b[0m\u001b[1;33m\u001b[0m\u001b[0m\n\u001b[0m\u001b[0;32m      6\u001b[0m     \u001b[0mregression_model\u001b[0m\u001b[1;33m.\u001b[0m\u001b[0m__temporary_coefficients\u001b[0m \u001b[1;33m=\u001b[0m \u001b[0mregression_model\u001b[0m\u001b[1;33m.\u001b[0m\u001b[0mcoefficients\u001b[0m\u001b[1;33m.\u001b[0m\u001b[0mcopy\u001b[0m\u001b[1;33m(\u001b[0m\u001b[1;33m)\u001b[0m\u001b[1;33m\u001b[0m\u001b[1;33m\u001b[0m\u001b[0m\n\u001b[0;32m      7\u001b[0m \u001b[1;33m\u001b[0m\u001b[0m\n",
      "\u001b[1;31mAttributeError\u001b[0m: 'Regression' object has no attribute '__temporary_coefficients'"
     ]
    }
   ],
   "source": [
    "coeffs = regression_model.fit(scaled_coefficients=True)\n",
    "coeffs"
   ]
  },
  {
   "cell_type": "markdown",
   "id": "found-intake",
   "metadata": {},
   "source": [
    "That's the moment when we have to scale our data"
   ]
  },
  {
   "cell_type": "code",
   "execution_count": 37,
   "id": "charitable-puzzle",
   "metadata": {},
   "outputs": [
    {
     "data": {
      "image/png": "[encoded data removed]",
      "text/plain": [
       "<Figure size 432x288 with 1 Axes>"
      ]
     },
     "metadata": {
      "needs_background": "light"
     },
     "output_type": "display_data"
    }
   ],
   "source": [
    "predicted = []\n",
    "for test in test_features:\n",
    "    predicted.append(regression_model.predict(test))\n",
    "axis1 = column2list(test_features, 0)\n",
    "plt.scatter(axis1, test_target)\n",
    "plt.scatter(axis1, predicted)\n",
    "plt.xlabel(\"FUELCONSUMPTION_COMB_MPG\")\n",
    "plt.ylabel(\"CO2EMISSIONS\")\n",
    "plt.show()\n",
    "\n",
    "plot2d_target2predict(regression_model, cv_features, cv_target,\n",
    "                      feature_name=\"FUELCONSUMPTION_COMB_MPG\", \n",
    "                      target_name=\"CO2EMISSIONS\",\n",
    "                      feature_idx = 0, loc_place=\"upper right\")"
   ]
  },
  {
   "cell_type": "markdown",
   "id": "settled-granny",
   "metadata": {},
   "source": [
    "We faced a problem that we cannot select appropriate coefficients/parameters for our model to learn properly. \n",
    "At some moment we have overshoot, at another one - undershoot. May be data is still didn't ready? "
   ]
  },
  {
   "cell_type": "markdown",
   "id": "defensive-meaning",
   "metadata": {},
   "source": [
    "# Section 4<a id='id_4'></a> - real game"
   ]
  },
  {
   "cell_type": "markdown",
   "id": "stable-melissa",
   "metadata": {},
   "source": [
    "In this section I will try to create the best 1 feature - 1 target model.\n",
    "\n",
    "Let's scale our data as x = x / max(|X|), so the feature and the target will be in a range -1...1. \n",
    "To do so, we apply the following:"
   ]
  },
  {
   "cell_type": "code",
   "execution_count": 53,
   "id": "cosmetic-playback",
   "metadata": {},
   "outputs": [
    {
     "name": "stdout",
     "output_type": "stream",
     "text": [
      "Column MODELYEAR was scaled\n",
      "Column MAKE was scaled\n",
      "Column MODEL was scaled\n",
      "Column VEHICLECLASS was scaled\n",
      "Column ENGINESIZE was scaled\n",
      "Column CYLINDERS was scaled\n",
      "Column TRANSMISSION was scaled\n",
      "Column FUELTYPE was scaled\n",
      "Column FUELCONSUMPTION_CITY was scaled\n",
      "Column FUELCONSUMPTION_HWY was scaled\n",
      "Column FUELCONSUMPTION_COMB was scaled\n",
      "Column FUELCONSUMPTION_COMB_MPG was scaled\n",
      "Column CO2EMISSIONS was scaled\n"
     ]
    }
   ],
   "source": [
    "main_data_table.max_scaling()"
   ]
  },
  {
   "cell_type": "code",
   "execution_count": 54,
   "id": "ahead-boards",
   "metadata": {
    "scrolled": true
   },
   "outputs": [
    {
     "data": {
      "image/png": "[encoded data removed]",
      "text/plain": [
       "<Figure size 432x288 with 1 Axes>"
      ]
     },
     "metadata": {
      "needs_background": "light"
     },
     "output_type": "display_data"
    }
   ],
   "source": [
    "main_data_table.plot(features2target=True)"
   ]
  },
  {
   "cell_type": "markdown",
   "id": "exclusive-tender",
   "metadata": {},
   "source": [
    "indeed, as we can see data was scaled properly. Let's try with that data now."
   ]
  },
  {
   "cell_type": "code",
   "execution_count": 56,
   "id": "virtual-virgin",
   "metadata": {},
   "outputs": [],
   "source": [
    "# regenerate training/cv/testing scaled data\n",
    "scaled_training_data = main_data_table.get_training_data()\n",
    "scaled_cv_data = main_data_table.get_cv_data()\n",
    "scaled_testing_data = main_data_table.get_testing_data()"
   ]
  },
  {
   "cell_type": "code",
   "execution_count": 57,
   "id": "spare-channel",
   "metadata": {},
   "outputs": [
    {
     "data": {
      "text/plain": [
       "True"
      ]
     },
     "execution_count": 57,
     "metadata": {},
     "output_type": "execute_result"
    }
   ],
   "source": [
    "regression_model.set_training_data(scaled_training_data[0], scaled_training_data[1])\n",
    "regression_model.set_testing_data(scaled_cv_data[0], scaled_cv_data[1])"
   ]
  },
  {
   "cell_type": "markdown",
   "id": "lined-integrity",
   "metadata": {},
   "source": [
    "In additional, I'll enable logs' writing to showcase how the model was learning within time."
   ]
  },
  {
   "cell_type": "code",
   "execution_count": 61,
   "id": "charged-sculpture",
   "metadata": {},
   "outputs": [
    {
     "name": "stdout",
     "output_type": "stream",
     "text": [
      "Log mode is enable\n"
     ]
    }
   ],
   "source": [
    "regression_model.log_mode(True)"
   ]
  },
  {
   "cell_type": "markdown",
   "id": "experimental-accuracy",
   "metadata": {},
   "source": [
    "Let's try we the same config we had at very first time."
   ]
  },
  {
   "cell_type": "code",
   "execution_count": 58,
   "id": "surprised-humidity",
   "metadata": {},
   "outputs": [],
   "source": [
    "regression_model.epoch = 100\n",
    "regression_model.alpha = 0.5\n",
    "regression_model.regularization = 0"
   ]
  },
  {
   "cell_type": "code",
   "execution_count": 62,
   "id": "floppy-duration",
   "metadata": {},
   "outputs": [
    {
     "name": "stdout",
     "output_type": "stream",
     "text": [
      "Initiated coefficients are [7, 3]\n",
      "Iteration 26 done\n",
      "Iteration 51 done\n",
      "Iteration 76 done\n",
      "Training is completed with 100 iterations\n"
     ]
    },
    {
     "data": {
      "text/plain": [
       "[0.6971, -0.3908]"
      ]
     },
     "execution_count": 62,
     "metadata": {},
     "output_type": "execute_result"
    }
   ],
   "source": [
    "regression_model.fit()"
   ]
  },
  {
   "cell_type": "code",
   "execution_count": 63,
   "id": "unique-david",
   "metadata": {},
   "outputs": [
    {
     "data": {
      "image/png": "[encoded data removed]",
      "text/plain": [
       "<Figure size 432x288 with 1 Axes>"
      ]
     },
     "metadata": {
      "needs_background": "light"
     },
     "output_type": "display_data"
    }
   ],
   "source": [
    "cv_features, cv_target = scaled_cv_data\n",
    "training_features, training_target = scaled_training_data\n",
    "plot2d_target2predict(regression_model, cv_features, cv_target,\n",
    "                      feature_name=\"FUELCONSUMPTION_COMB_MPG\", \n",
    "                      target_name=\"CO2EMISSIONS\",\n",
    "                      feature_idx = 0, loc_place=\"upper right\")"
   ]
  },
  {
   "cell_type": "markdown",
   "id": "alpha-iraqi",
   "metadata": {},
   "source": [
    "Much better!! Regression model has method to evaluate trained model. There is mean absolute error metric as:"
   ]
  },
  {
   "cell_type": "code",
   "execution_count": 64,
   "id": "headed-primary",
   "metadata": {},
   "outputs": [
    {
     "data": {
      "text/plain": [
       "0.0671"
      ]
     },
     "execution_count": 64,
     "metadata": {},
     "output_type": "execute_result"
    }
   ],
   "source": [
    "regression_model.evaluation(scaled_cv_data, metric=\"MAE\")"
   ]
  },
  {
   "cell_type": "markdown",
   "id": "fourth-wagon",
   "metadata": {},
   "source": [
    "Assuming all values scaled up to 1, we can say ignorantly that the model gives almost 94% accuracy.\n",
    "\n",
    "Let's check what logs might show:"
   ]
  },
  {
   "cell_type": "code",
   "execution_count": 65,
   "id": "packed-riverside",
   "metadata": {},
   "outputs": [],
   "source": [
    "logs1 = regression_model.get_logs()"
   ]
  },
  {
   "cell_type": "code",
   "execution_count": 67,
   "id": "advised-original",
   "metadata": {},
   "outputs": [
    {
     "data": {
      "text/plain": [
       "Logs of model settings alpha = 0.5, reg = 0"
      ]
     },
     "execution_count": 67,
     "metadata": {},
     "output_type": "execute_result"
    }
   ],
   "source": [
    "logs1"
   ]
  },
  {
   "cell_type": "markdown",
   "id": "israeli-mouse",
   "metadata": {},
   "source": [
    "Let's use logs to analyse loss functions changes within a time."
   ]
  },
  {
   "cell_type": "code",
   "execution_count": 74,
   "id": "vocational-letter",
   "metadata": {},
   "outputs": [
    {
     "data": {
      "image/png": "[encoded data removed]",
      "text/plain": [
       "<Figure size 432x288 with 1 Axes>"
      ]
     },
     "metadata": {
      "needs_background": "light"
     },
     "output_type": "display_data"
    },
    {
     "data": {
      "image/png": "[encoded data removed]",
      "text/plain": [
       "<Figure size 432x288 with 1 Axes>"
      ]
     },
     "metadata": {
      "needs_background": "light"
     },
     "output_type": "display_data"
    }
   ],
   "source": [
    "plt.title(\"Raw error\")\n",
    "iterations = [x for x in range(logs1.iterations)]\n",
    "cost_function_training = logs1.training_cf\n",
    "cost_function_cv = logs1.testing_cf\n",
    "plt.scatter(iterations, cost_function_training, label=\"training loss\")\n",
    "plt.scatter(iterations, cost_function_cv, label=\"testing loss\")\n",
    "plt.legend(loc=\"upper right\")\n",
    "plt.xlabel(\"epoch\")\n",
    "plt.ylabel(\"Error\")\n",
    "plt.show()\n",
    "\n",
    "plt.title(\"Scaled error\")\n",
    "plt.ylim([0, 0.02])\n",
    "plt.scatter(iterations, cost_function_training, label=\"training loss\")\n",
    "plt.scatter(iterations, cost_function_cv, label=\"testing loss\")\n",
    "plt.legend(loc=\"upper right\")\n",
    "plt.ylabel(\"Error\")\n",
    "plt.show()"
   ]
  },
  {
   "cell_type": "markdown",
   "id": "intelligent-video",
   "metadata": {},
   "source": [
    "Brilliant. It seems like we can increase alpha and number of iteration (epoch) to improve our model. But let's move forward."
   ]
  },
  {
   "cell_type": "markdown",
   "id": "happy-mills",
   "metadata": {},
   "source": [
    "## Square feature "
   ]
  },
  {
   "cell_type": "markdown",
   "id": "alien-record",
   "metadata": {},
   "source": [
    "We can add new feature to make the model line looks like parabolic. How about FUELCONSUMPTION_COMB_MPG^2?\n",
    "\n",
    "To do so, we have to create a new feature data set as follows:"
   ]
  },
  {
   "cell_type": "code",
   "execution_count": 77,
   "id": "superb-recipient",
   "metadata": {},
   "outputs": [
    {
     "name": "stdout",
     "output_type": "stream",
     "text": [
      "New created feature FUELCONSUMPTION_COMB_MPG^(2) was added\n",
      "This FUELCONSUMPTION_COMB_MPG^(2) feature is added to the list of training set\n"
     ]
    }
   ],
   "source": [
    "main_data_table.add_new_feature(\"FUELCONSUMPTION_COMB_MPG\", power=2)"
   ]
  },
  {
   "cell_type": "code",
   "execution_count": 78,
   "id": "informal-camel",
   "metadata": {},
   "outputs": [
    {
     "data": {
      "text/plain": [
       "{'FUELCONSUMPTION_COMB_MPG': <data_reader.DataTable._DataColumn at 0x17e7b496780>,\n",
       " 'FUELCONSUMPTION_COMB_MPG^(2)': <data_reader.DataTable._DataColumn at 0x17e7c275400>}"
      ]
     },
     "execution_count": 78,
     "metadata": {},
     "output_type": "execute_result"
    }
   ],
   "source": [
    "main_data_table.features  # shows all enabled features"
   ]
  },
  {
   "cell_type": "markdown",
   "id": "deadly-cartoon",
   "metadata": {},
   "source": [
    "Also, we can set power = 0.5, which will give square root of selected feature. But for that time we are looking for power of 2."
   ]
  },
  {
   "cell_type": "code",
   "execution_count": 85,
   "id": "covered-rating",
   "metadata": {},
   "outputs": [],
   "source": [
    "# regenerate training/cv/testing scaled data\n",
    "scaled_training_data = main_data_table.get_training_data()\n",
    "scaled_cv_data = main_data_table.get_cv_data()\n",
    "scaled_testing_data = main_data_table.get_testing_data()\n",
    "\n",
    "cv_features, cv_target = scaled_cv_data\n",
    "training_features, training_target = scaled_training_data"
   ]
  },
  {
   "cell_type": "code",
   "execution_count": 86,
   "id": "partial-dylan",
   "metadata": {},
   "outputs": [
    {
     "data": {
      "text/plain": [
       "True"
      ]
     },
     "execution_count": 86,
     "metadata": {},
     "output_type": "execute_result"
    }
   ],
   "source": [
    "regression_model.set_training_data(scaled_training_data[0], scaled_training_data[1])\n",
    "regression_model.set_testing_data(scaled_cv_data[0], scaled_cv_data[1])"
   ]
  },
  {
   "cell_type": "code",
   "execution_count": 87,
   "id": "forty-instruction",
   "metadata": {},
   "outputs": [
    {
     "name": "stdout",
     "output_type": "stream",
     "text": [
      "Initiated coefficients are [-9, -2, -8]\n",
      "Iteration 26 done\n",
      "Iteration 51 done\n",
      "Iteration 76 done\n",
      "Training is completed with 100 iterations\n"
     ]
    },
    {
     "data": {
      "text/plain": [
       "[0.2054, 3.0751, -4.9421]"
      ]
     },
     "execution_count": 87,
     "metadata": {},
     "output_type": "execute_result"
    }
   ],
   "source": [
    "regression_model.epoch = 100\n",
    "regression_model.alpha = 0.5\n",
    "regression_model.regularization = 0\n",
    "regression_model.fit()"
   ]
  },
  {
   "cell_type": "code",
   "execution_count": 88,
   "id": "ranking-picking",
   "metadata": {},
   "outputs": [
    {
     "data": {
      "text/plain": [
       "[0.2054, 3.0751, -4.9421]"
      ]
     },
     "execution_count": 88,
     "metadata": {},
     "output_type": "execute_result"
    }
   ],
   "source": [
    "regression_model.coefficients"
   ]
  },
  {
   "cell_type": "code",
   "execution_count": 89,
   "id": "variable-anime",
   "metadata": {},
   "outputs": [
    {
     "data": {
      "image/png": "[encoded data removed]",
      "text/plain": [
       "<Figure size 432x288 with 1 Axes>"
      ]
     },
     "metadata": {
      "needs_background": "light"
     },
     "output_type": "display_data"
    }
   ],
   "source": [
    "plot2d_target2predict(regression_model, cv_features, cv_target,\n",
    "                      feature_name=\"FUELCONSUMPTION_COMB_MPG\", \n",
    "                      target_name=\"CO2EMISSIONS\",\n",
    "                      feature_idx = 0, loc_place=\"upper right\")"
   ]
  },
  {
   "cell_type": "code",
   "execution_count": 90,
   "id": "descending-education",
   "metadata": {},
   "outputs": [
    {
     "data": {
      "text/plain": [
       "0.1187"
      ]
     },
     "execution_count": 90,
     "metadata": {},
     "output_type": "execute_result"
    }
   ],
   "source": [
    "regression_model.evaluation(scaled_cv_data, metric=\"MAE\")"
   ]
  },
  {
   "cell_type": "markdown",
   "id": "twelve-accent",
   "metadata": {},
   "source": [
    "Clearly we can see that the model is undertrained. How about to increase epoch?"
   ]
  },
  {
   "cell_type": "code",
   "execution_count": 95,
   "id": "minimal-resistance",
   "metadata": {},
   "outputs": [],
   "source": [
    "regression_model.epoch = 2000"
   ]
  },
  {
   "cell_type": "code",
   "execution_count": 96,
   "id": "naval-imperial",
   "metadata": {},
   "outputs": [
    {
     "name": "stdout",
     "output_type": "stream",
     "text": [
      "Initiated coefficients are [-10, -4, 3]\n",
      "Iteration 501 done\n",
      "Iteration 1001 done\n",
      "Iteration 1501 done\n",
      "Training is completed with 2000 iterations\n"
     ]
    },
    {
     "data": {
      "text/plain": [
       "[1.2802, -2.4825, 1.6173]"
      ]
     },
     "execution_count": 96,
     "metadata": {},
     "output_type": "execute_result"
    }
   ],
   "source": [
    "regression_model.fit()"
   ]
  },
  {
   "cell_type": "code",
   "execution_count": 97,
   "id": "requested-violin",
   "metadata": {},
   "outputs": [
    {
     "data": {
      "image/png": "[encoded data removed]",
      "text/plain": [
       "<Figure size 432x288 with 1 Axes>"
      ]
     },
     "metadata": {
      "needs_background": "light"
     },
     "output_type": "display_data"
    }
   ],
   "source": [
    "plot2d_target2predict(regression_model, cv_features, cv_target,\n",
    "                      feature_name=\"FUELCONSUMPTION_COMB_MPG\", \n",
    "                      target_name=\"CO2EMISSIONS\",\n",
    "                      feature_idx = 0, loc_place=\"upper right\")"
   ]
  },
  {
   "cell_type": "code",
   "execution_count": 98,
   "id": "periodic-watts",
   "metadata": {},
   "outputs": [
    {
     "data": {
      "text/plain": [
       "0.0287"
      ]
     },
     "execution_count": 98,
     "metadata": {},
     "output_type": "execute_result"
    }
   ],
   "source": [
    "regression_model.evaluation(scaled_cv_data, metric=\"MAE\")"
   ]
  },
  {
   "cell_type": "markdown",
   "id": "running-campus",
   "metadata": {},
   "source": [
    "Great! Now it looks more to what we want. But still it's not perfect. At first look we can provide some regularization to reduce square power. \n",
    "\n",
    "Let's figure out what we can do."
   ]
  },
  {
   "cell_type": "code",
   "execution_count": 99,
   "id": "nervous-mayor",
   "metadata": {},
   "outputs": [
    {
     "data": {
      "image/png": "[encoded data removed]",
      "text/plain": [
       "<Figure size 432x288 with 1 Axes>"
      ]
     },
     "metadata": {
      "needs_background": "light"
     },
     "output_type": "display_data"
    },
    {
     "data": {
      "image/png": "[encoded data removed]",
      "text/plain": [
       "<Figure size 432x288 with 1 Axes>"
      ]
     },
     "metadata": {
      "needs_background": "light"
     },
     "output_type": "display_data"
    }
   ],
   "source": [
    "logs_0alph5_0regul_2000epoch = regression_model.get_logs()\n",
    "logs1 = logs_0alph5_0regul_2000epoch\n",
    "plt.title(\"Raw error\")\n",
    "iterations = [x for x in range(logs1.iterations)]\n",
    "cost_function_training = logs1.training_cf\n",
    "cost_function_cv = logs1.testing_cf\n",
    "plt.scatter(iterations, cost_function_training, label=\"training loss\")\n",
    "plt.scatter(iterations, cost_function_cv, label=\"testing loss\")\n",
    "plt.legend(loc=\"upper right\")\n",
    "plt.xlabel(\"epoch\")\n",
    "plt.ylabel(\"Error\")\n",
    "plt.show()\n",
    "\n",
    "plt.title(\"Scaled error\")\n",
    "plt.ylim([0, 0.02])\n",
    "plt.scatter(iterations, cost_function_training, label=\"training loss\")\n",
    "plt.scatter(iterations, cost_function_cv, label=\"testing loss\")\n",
    "plt.legend(loc=\"upper right\")\n",
    "plt.ylabel(\"Error\")\n",
    "plt.show()"
   ]
  },
  {
   "cell_type": "markdown",
   "id": "proof-cream",
   "metadata": {},
   "source": [
    "From loss functions analysis we can see that epoch >= 1000 is not necessary, so it just wastes a time. Let's dive into alpha and regul parameters more."
   ]
  },
  {
   "cell_type": "code",
   "execution_count": 131,
   "id": "committed-resistance",
   "metadata": {},
   "outputs": [
    {
     "name": "stdout",
     "output_type": "stream",
     "text": [
      "Initiated coefficients are [-7, -10, -5]\n",
      "Iteration 301 done\n",
      "Iteration 601 done\n",
      "Iteration 901 done\n",
      "Training is completed with 1200 iterations\n"
     ]
    },
    {
     "data": {
      "text/plain": [
       "[1.1254, -1.7868, 0.8921]"
      ]
     },
     "execution_count": 131,
     "metadata": {},
     "output_type": "execute_result"
    }
   ],
   "source": [
    "regression_model.epoch = 1200\n",
    "regression_model.alpha = 0.4\n",
    "regression_model.regularization = 0.1\n",
    "regression_model.fit()"
   ]
  },
  {
   "cell_type": "code",
   "execution_count": 132,
   "id": "packed-insulation",
   "metadata": {},
   "outputs": [
    {
     "data": {
      "image/png": "[encoded data removed]",
      "text/plain": [
       "<Figure size 432x288 with 1 Axes>"
      ]
     },
     "metadata": {
      "needs_background": "light"
     },
     "output_type": "display_data"
    }
   ],
   "source": [
    "plot2d_target2predict(regression_model, cv_features, cv_target,\n",
    "                      feature_name=\"FUELCONSUMPTION_COMB_MPG\", \n",
    "                      target_name=\"CO2EMISSIONS\",\n",
    "                      feature_idx = 0, loc_place=\"upper right\")"
   ]
  },
  {
   "cell_type": "code",
   "execution_count": 133,
   "id": "peripheral-wagon",
   "metadata": {},
   "outputs": [
    {
     "data": {
      "text/plain": [
       "0.0257"
      ]
     },
     "execution_count": 133,
     "metadata": {},
     "output_type": "execute_result"
    }
   ],
   "source": [
    "regression_model.evaluation(scaled_cv_data, metric=\"MAE\")"
   ]
  },
  {
   "cell_type": "code",
   "execution_count": 136,
   "id": "annoying-performance",
   "metadata": {},
   "outputs": [
    {
     "data": {
      "text/plain": [
       "0.0226"
      ]
     },
     "execution_count": 136,
     "metadata": {},
     "output_type": "execute_result"
    }
   ],
   "source": [
    "regression_model.evaluation(scaled_testing_data, metric=\"MAE\")"
   ]
  },
  {
   "cell_type": "markdown",
   "id": "perfect-revision",
   "metadata": {},
   "source": [
    "## 1 feature - 1 target model results"
   ]
  },
  {
   "cell_type": "markdown",
   "id": "wireless-bleeding",
   "metadata": {},
   "source": [
    "The best trained model is: \n",
    "\n",
    "CO2EMISSIONS = 1.1254 - 1.7868 * FUELCONSUMPTION_COMB_MPG + 0.8921 * FUELCONSUMPTION_COMB_MPG^2\n",
    "\n",
    "which gives only 0.0257 MAE or 2.57% error of the scaled data, and 0.0226 on the testing data.\n",
    "\n",
    "Let's store this model for further usage."
   ]
  },
  {
   "cell_type": "code",
   "execution_count": 137,
   "id": "mineral-hudson",
   "metadata": {},
   "outputs": [
    {
     "data": {
      "text/plain": [
       "[1.1254, -1.7868, 0.8921]"
      ]
     },
     "execution_count": 137,
     "metadata": {},
     "output_type": "execute_result"
    }
   ],
   "source": [
    "model_1_1 = regression_model\n",
    "model_1_1.coefficients"
   ]
  },
  {
   "cell_type": "markdown",
   "id": "certified-worker",
   "metadata": {},
   "source": [
    "# Section 5<a id='id_5'></a> - more features - more fun"
   ]
  },
  {
   "cell_type": "markdown",
   "id": "white-nylon",
   "metadata": {},
   "source": [
    "How about to add more features into our model? What minimum MAE we might get? Let's explore.\n",
    "\n",
    "In this section I'm going to build more complex model with way more features than it was before."
   ]
  },
  {
   "cell_type": "code",
   "execution_count": 138,
   "id": "developed-sacrifice",
   "metadata": {},
   "outputs": [],
   "source": [
    "# so to create new model and repeat section 4 plus minus. \n",
    "# Then, compare results between 1 feature and multi-features models."
   ]
  },
  {
   "cell_type": "code",
   "execution_count": null,
   "id": "guided-tuition",
   "metadata": {},
   "outputs": [],
   "source": []
  }
 ],
 "metadata": {
  "kernelspec": {
   "display_name": "Python 3",
   "language": "python",
   "name": "python3"
  },
  "language_info": {
   "codemirror_mode": {
    "name": "ipython",
    "version": 3
   },
   "file_extension": ".py",
   "mimetype": "text/x-python",
   "name": "python",
   "nbconvert_exporter": "python",
   "pygments_lexer": "ipython3",
   "version": "3.6.8"
  }
 },
 "nbformat": 4,
 "nbformat_minor": 5
}
